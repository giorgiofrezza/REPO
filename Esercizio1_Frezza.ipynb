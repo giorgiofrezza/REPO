{
 "cells": [
  {
   "cell_type": "code",
   "execution_count": 1,
   "metadata": {},
   "outputs": [
    {
     "name": "stdout",
     "output_type": "stream",
     "text": [
      "la somma tra 5 e 3 vale:\n"
     ]
    },
    {
     "data": {
      "text/plain": [
       "8"
      ]
     },
     "execution_count": 1,
     "metadata": {},
     "output_type": "execute_result"
    }
   ],
   "source": [
    "def addizione(x,y):\n",
    "    z=x+y\n",
    "    print('la somma tra {} e {} vale:'.format(x,y,z))\n",
    "    return z\n",
    "addizione(5,3)"
   ]
  },
  {
   "cell_type": "code",
   "execution_count": 2,
   "metadata": {},
   "outputs": [
    {
     "data": {
      "text/plain": [
       "'CIAO CRISTINA'"
      ]
     },
     "execution_count": 2,
     "metadata": {},
     "output_type": "execute_result"
    }
   ],
   "source": [
    "def concatenazione(a,b):\n",
    "    c=a + b\n",
    "    return c.upper()\n",
    "concatenazione('Ciao ','Cristina')"
   ]
  },
  {
   "cell_type": "code",
   "execution_count": 3,
   "metadata": {},
   "outputs": [
    {
     "name": "stdout",
     "output_type": "stream",
     "text": [
      "il doppio di 10 è 20, mentre il triplo di 20 è 60\n"
     ]
    }
   ],
   "source": [
    "def operazioni(u,v):\n",
    "    doppio=u*2\n",
    "    triplo=v*3\n",
    "    return print('il doppio di {} è {},'.format(u,doppio), 'mentre il triplo di {} è {}'.format(v,triplo))\n",
    "operazioni(10,20)"
   ]
  }
 ],
 "metadata": {
  "kernelspec": {
   "display_name": "Python 3",
   "language": "python",
   "name": "python3"
  },
  "language_info": {
   "codemirror_mode": {
    "name": "ipython",
    "version": 3
   },
   "file_extension": ".py",
   "mimetype": "text/x-python",
   "name": "python",
   "nbconvert_exporter": "python",
   "pygments_lexer": "ipython3",
   "version": "3.8.5"
  }
 },
 "nbformat": 4,
 "nbformat_minor": 4
}
